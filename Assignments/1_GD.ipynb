{
  "cells": [
    {
      "cell_type": "code",
      "source": [
        "import numpy as np\n",
        "import pandas as pd"
      ],
      "metadata": {
        "id": "zXIYfIsvtAUQ"
      },
      "execution_count": null,
      "outputs": [],
      "id": "zXIYfIsvtAUQ"
    },
    {
      "cell_type": "code",
      "source": [
        "def import_data(file_path):\n",
        "    data = pd.read_csv(file_path)\n",
        "    A = data.iloc[:, :-1].values  # all columns except the last\n",
        "    b = data.iloc[:, -1].values   # last column\n",
        "\n",
        "    # Normalizing A and b\n",
        "    A = (A - np.mean(A, axis=0)) / np.std(A, axis=0)\n",
        "    b = (b - np.mean(b)) / np.std(b)\n",
        "\n",
        "    return A, b"
      ],
      "metadata": {
        "id": "m49ahVtdtAUQ"
      },
      "execution_count": null,
      "outputs": [],
      "id": "m49ahVtdtAUQ"
    },
    {
      "cell_type": "markdown",
      "source": [
        "## Gradient descent"
      ],
      "metadata": {
        "id": "uYJVlEzKPHJo"
      },
      "id": "uYJVlEzKPHJo"
    },
    {
      "cell_type": "code",
      "execution_count": null,
      "metadata": {
        "id": "sLVC3sHMtAUQ"
      },
      "outputs": [],
      "source": [
        "def initialize_vector(n):\n",
        "    return np.random.rand(n)"
      ],
      "id": "sLVC3sHMtAUQ"
    },
    {
      "cell_type": "code",
      "execution_count": null,
      "metadata": {
        "id": "V_o8YlTvtAUe"
      },
      "outputs": [],
      "source": [
        "def calculate_loss(a, v, b):\n",
        "    b_pred = np.dot(a, v)\n",
        "    mse = np.mean((b - b_pred) ** 2)\n",
        "    return mse"
      ],
      "id": "V_o8YlTvtAUe"
    },
    {
      "cell_type": "code",
      "execution_count": null,
      "metadata": {
        "id": "IY11tjnhtAUf"
      },
      "outputs": [],
      "source": [
        "def calculate_gradient(a, v, b):\n",
        "    b_pred = np.dot(a, v)\n",
        "    gradient = 2 * np.dot(a.T, (b_pred - b)) / len(b)\n",
        "    return gradient"
      ],
      "id": "IY11tjnhtAUf"
    },
    {
      "cell_type": "code",
      "execution_count": null,
      "metadata": {
        "id": "PhQt4KhxtAUf"
      },
      "outputs": [],
      "source": [
        "def update_parameters(v, learning_rate, gradient):\n",
        "    v -= learning_rate * gradient\n",
        "    return v"
      ],
      "id": "PhQt4KhxtAUf"
    },
    {
      "cell_type": "code",
      "execution_count": null,
      "metadata": {
        "id": "rGL9iNtntAUf"
      },
      "outputs": [],
      "source": [
        "def gradient_descent(a, b, learning_rate=0.01, max_iterations=1000, tolerance=1e-6):\n",
        "    v = initialize_vector(a.shape[1])\n",
        "    for i in range(max_iterations):\n",
        "        gradient = calculate_gradient(a, v, b)\n",
        "        v_new = update_parameters(v, learning_rate, gradient)\n",
        "\n",
        "        # Check for convergence\n",
        "        if np.linalg.norm(v_new - v, ord=2) < tolerance:\n",
        "            break\n",
        "\n",
        "        v = v_new\n",
        "\n",
        "    return v"
      ],
      "id": "rGL9iNtntAUf"
    },
    {
      "cell_type": "code",
      "source": [
        "filename = '/data1.csv'\n",
        "a, b = import_data(filename)\n",
        "\n",
        "v = gradient_descent(a, b)\n",
        "print(\"Optimal vector v:\")\n",
        "print(v)\n"
      ],
      "metadata": {
        "id": "uRszlFWatAUf"
      },
      "execution_count": null,
      "outputs": [],
      "id": "uRszlFWatAUf"
    },
    {
      "cell_type": "code",
      "source": [
        "final_loss = calculate_loss(a, v, b)\n",
        "print(f\"Final loss: {final_loss:.6f}\")"
      ],
      "metadata": {
        "id": "dzQNSOeqtAUg"
      },
      "execution_count": null,
      "outputs": [],
      "id": "dzQNSOeqtAUg"
    },
    {
      "cell_type": "code",
      "source": [
        "import time\n",
        "\n",
        "def compute_gradient_descent_time(a, b):\n",
        "    start_time = time.time()\n",
        "\n",
        "    # Perform gradient descent\n",
        "    gradient_descent(a, b)\n",
        "\n",
        "    end_time = time.time()\n",
        "\n",
        "    return end_time - start_time"
      ],
      "metadata": {
        "id": "XkUW0wtttAUg"
      },
      "execution_count": null,
      "outputs": [],
      "id": "XkUW0wtttAUg"
    },
    {
      "cell_type": "code",
      "source": [
        "# Compute the time taken for gradient descent\n",
        "time_taken = compute_gradient_descent_time(a, b)\n",
        "print(f\"Time taken for gradient descent: {time_taken:.6f} seconds\")"
      ],
      "metadata": {
        "id": "6qKTlrGqrJpU"
      },
      "id": "6qKTlrGqrJpU",
      "execution_count": null,
      "outputs": []
    }
  ],
  "metadata": {
    "colab": {
      "provenance": []
    },
    "language_info": {
      "name": "python"
    },
    "kernelspec": {
      "name": "python3",
      "display_name": "Python 3"
    }
  },
  "nbformat": 4,
  "nbformat_minor": 5
}