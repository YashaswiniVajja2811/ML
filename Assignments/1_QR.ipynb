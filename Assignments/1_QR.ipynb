{
  "nbformat": 4,
  "nbformat_minor": 0,
  "metadata": {
    "colab": {
      "provenance": []
    },
    "kernelspec": {
      "name": "python3",
      "display_name": "Python 3"
    },
    "language_info": {
      "name": "python"
    }
  },
  "cells": [
    {
      "cell_type": "code",
      "execution_count": null,
      "metadata": {
        "id": "MbOQvsR3y9y-"
      },
      "outputs": [],
      "source": [
        "import numpy as np\n",
        "import pandas as pd"
      ]
    },
    {
      "cell_type": "code",
      "source": [
        "def import_data(file_path):\n",
        "    data = pd.read_csv(file_path)\n",
        "    A = data.iloc[:,:-1].values\n",
        "    b = data.iloc[:,-1].values\n",
        "    return A,b"
      ],
      "metadata": {
        "id": "hCuN_qZoy9y-"
      },
      "execution_count": null,
      "outputs": []
    },
    {
      "cell_type": "code",
      "source": [
        "filename = '/data1.csv'\n",
        "A,b = import_data(filename)\n",
        "print('Matrix A: ')\n",
        "print(A)\n",
        "print('Vector b: ')\n",
        "print(b)"
      ],
      "metadata": {
        "id": "yKWiMKj-y9y_",
        "collapsed": true
      },
      "execution_count": null,
      "outputs": []
    },
    {
      "cell_type": "markdown",
      "source": [
        "## QR Factorization"
      ],
      "metadata": {
        "id": "VKlnzxG9y9y_"
      }
    },
    {
      "cell_type": "code",
      "source": [
        "def qr_factorization(A):\n",
        "    # Get the number of rows (m) and columns (n) of A\n",
        "    m, n = A.shape\n",
        "\n",
        "    # Initialize Q and R matrices\n",
        "    Q = np.zeros((m, n))\n",
        "    R = np.zeros((n, n))\n",
        "\n",
        "    # Gram-Schmidt process\n",
        "    for j in range(n):\n",
        "        # Start with the current column of A\n",
        "        v = A[:, j]\n",
        "\n",
        "        # Subtract the projection of v onto each previous Q column\n",
        "        for i in range(j):\n",
        "            # Calculate the projection coefficient (dot product)\n",
        "            R[i, j] = np.dot(Q[:, i].T, A[:, j])\n",
        "\n",
        "            # Subtract the projection from v\n",
        "            v = v - R[i, j] * Q[:, i]\n",
        "\n",
        "        # The j-th diagonal element of R is the norm of the orthogonalized vector v\n",
        "        R[j, j] = np.linalg.norm(v)\n",
        "\n",
        "        # Normalize the orthogonalized vector to create the j-th column of Q\n",
        "        Q[:, j] = v / R[j, j]\n",
        "\n",
        "    return Q, R\n"
      ],
      "metadata": {
        "id": "lNbxwV8ty9y_"
      },
      "execution_count": null,
      "outputs": []
    },
    {
      "cell_type": "code",
      "source": [
        "Q, R = qr_factorization(A)\n",
        "print(\"Q:\")\n",
        "print(Q)\n",
        "print(\"R:\")\n",
        "print(R)"
      ],
      "metadata": {
        "id": "k0DNUZ4gy9y_",
        "collapsed": true
      },
      "execution_count": null,
      "outputs": []
    },
    {
      "cell_type": "code",
      "source": [
        "def reconstruct_A(Q, R):\n",
        "    return np.dot(Q, R)"
      ],
      "metadata": {
        "id": "yAm80dvpy9y_"
      },
      "execution_count": null,
      "outputs": []
    },
    {
      "cell_type": "code",
      "source": [
        "reconstructed_A = reconstruct_A(Q, R)\n",
        "print(\"Reconstructed A:\")\n",
        "print(reconstructed_A)"
      ],
      "metadata": {
        "id": "b1JKTRA2y9zA",
        "collapsed": true
      },
      "execution_count": null,
      "outputs": []
    },
    {
      "cell_type": "code",
      "source": [
        "def find_x(Q, R, b):\n",
        "    Q_T_b = np.dot(Q.T, b)\n",
        "    x = np.linalg.solve(R, Q_T_b)\n",
        "    return x"
      ],
      "metadata": {
        "id": "GIiz3-NEy9zA"
      },
      "execution_count": null,
      "outputs": []
    },
    {
      "cell_type": "code",
      "source": [
        "x = find_x(Q, R, b)\n",
        "print(\"Value of x:\")\n",
        "print(x)"
      ],
      "metadata": {
        "id": "rXw9aEzIy9zA",
        "collapsed": true
      },
      "execution_count": null,
      "outputs": []
    },
    {
      "cell_type": "code",
      "source": [
        "def find_b_prime(A, x):\n",
        "    return np.dot(A, x)"
      ],
      "metadata": {
        "id": "yVEDQSTBy9zA"
      },
      "execution_count": null,
      "outputs": []
    },
    {
      "cell_type": "code",
      "source": [
        "b_prime = find_b_prime(A, x)\n",
        "print(\"Value of b':\")\n",
        "print(b_prime)"
      ],
      "metadata": {
        "id": "FGS8pB0Ey9zA",
        "collapsed": true
      },
      "execution_count": null,
      "outputs": []
    },
    {
      "cell_type": "code",
      "source": [
        "def calculate_loss(a, x, b):\n",
        "    b_prime = np.dot(a, x)\n",
        "    mse = np.mean((b - b_prime) ** 2)\n",
        "    return mse"
      ],
      "metadata": {
        "id": "eRyAENxay9zB"
      },
      "execution_count": null,
      "outputs": []
    },
    {
      "cell_type": "code",
      "source": [
        "final_loss = calculate_loss(A, x, b)\n",
        "print(f\"Final loss: {final_loss:.6f}\")"
      ],
      "metadata": {
        "id": "0wK2GkZAy9zB",
        "collapsed": true
      },
      "execution_count": null,
      "outputs": []
    },
    {
      "cell_type": "code",
      "source": [
        "import time\n",
        "\n",
        "def compute_qr_factorization_time(A):\n",
        "    start_time = time.time()\n",
        "\n",
        "    # Perform QR factorization\n",
        "    Q, R = qr_factorization(A)\n",
        "\n",
        "    end_time = time.time()\n",
        "\n",
        "    # Only return the time taken; do not print here\n",
        "    return end_time - start_time\n"
      ],
      "metadata": {
        "id": "8Og-kAu2y9zC"
      },
      "execution_count": null,
      "outputs": []
    },
    {
      "cell_type": "code",
      "source": [
        "# Compute the time taken for gradient descent\n",
        "time_taken = compute_qr_factorization_time(A)\n",
        "print(f\"Time taken for QR factorisation: {time_taken:.6f} seconds\")"
      ],
      "metadata": {
        "id": "2UZRsdd9rpEC"
      },
      "execution_count": null,
      "outputs": []
    }
  ]
}