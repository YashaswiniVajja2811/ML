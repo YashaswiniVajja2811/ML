{
  "nbformat": 4,
  "nbformat_minor": 0,
  "metadata": {
    "colab": {
      "provenance": []
    },
    "kernelspec": {
      "name": "python3",
      "display_name": "Python 3"
    },
    "language_info": {
      "name": "python"
    }
  },
  "cells": [
    {
      "cell_type": "code",
      "execution_count": null,
      "metadata": {
        "id": "fbwkXJw8v6iC"
      },
      "outputs": [],
      "source": [
        "import math\n",
        "\n",
        "def calculate_n(confidence_level, tolerance):\n",
        "    alpha = 1 - confidence_level\n",
        "    n = math.ceil(math.log(2 / alpha) / (2 * tolerance ** 2))\n",
        "    return n\n",
        "\n",
        "confidence_level = 0.98  # 80% confidence level\n",
        "tolerance = 0.05  # Error tolerance of 0.05\n",
        "\n",
        "# Use Hoeffding's inequality\n",
        "n = calculate_n(confidence_level, tolerance)\n",
        "print(f\"Number of trials needed (n): {n}\")"
      ]
    },
    {
      "cell_type": "code",
      "source": [
        "import pandas as pd\n",
        "\n",
        "def read_employee_data(file_path):\n",
        "    df = pd.read_csv(file_path)\n",
        "    employee_data = df.iloc[:, 1:].values\n",
        "    return employee_data\n",
        "\n",
        "file_path = '/challenge_dataset.csv'\n",
        "\n",
        "employee_data = read_employee_data(file_path)"
      ],
      "metadata": {
        "id": "ZXyZ3hU3wC-8"
      },
      "execution_count": null,
      "outputs": []
    },
    {
      "cell_type": "code",
      "source": [
        "import numpy as np\n",
        "\n",
        "def divide_and_minimize_error(employee_data, num_trials):\n",
        "    num_employees, num_skills = employee_data.shape\n",
        "\n",
        "    if num_employees % 2 != 0:\n",
        "        raise ValueError(\"Number of employees must be even to divide into two equal groups.\")\n",
        "\n",
        "    half_size = num_employees // 2\n",
        "    best_group1 = None\n",
        "    best_group2 = None\n",
        "    min_error = float('inf')\n",
        "    best_errors = None\n",
        "\n",
        "    for _ in range(num_trials):\n",
        "        indices = np.random.permutation(num_employees)\n",
        "        group1_indices = indices[:half_size]\n",
        "        group2_indices = indices[half_size:]\n",
        "\n",
        "        group1_sum = np.sum(employee_data[group1_indices], axis=0)\n",
        "        group2_sum = np.sum(employee_data[group2_indices], axis=0)\n",
        "        errors = np.abs(group1_sum - group2_sum)\n",
        "        total_error = np.sum(errors)\n",
        "\n",
        "        if total_error < min_error:\n",
        "            min_error = total_error\n",
        "            best_group1 = employee_data[group1_indices]\n",
        "            best_group2 = employee_data[group2_indices]\n",
        "            best_errors = errors\n",
        "            group1 = group1_indices\n",
        "            group2 = group2_indices\n",
        "\n",
        "    print(\"Minimum total error achieved:\", min_error)\n",
        "    print(\"Best group 1:\\n\", group1)\n",
        "    print(\"Best group 2:\\n\", group2)\n",
        "    return best_group1, best_group2, best_errors"
      ],
      "metadata": {
        "id": "k5j9y8LSwE4A"
      },
      "execution_count": null,
      "outputs": []
    },
    {
      "cell_type": "code",
      "source": [
        "group1, group2, errors = divide_and_minimize_error(employee_data, n)\n",
        "if group1 is not None and group2 is not None:\n",
        "    group1_skill_sums = np.sum(group1, axis=0)\n",
        "    group2_skill_sums = np.sum(group2, axis=0)\n",
        "\n",
        "    print(\"Group 1 skill sums:\\n\", group1_skill_sums)\n",
        "    print(\"Group 2 skill sums:\\n\", group2_skill_sums)\n",
        "\n",
        "    print(\"Error between Group 1 and Group 2 for each skill:\\n\", errors)\n",
        "else:\n",
        "    print(\"Could not find a satisfactory division with the given number of trials.\")\n"
      ],
      "metadata": {
        "id": "TrWgEk0owGjW"
      },
      "execution_count": null,
      "outputs": []
    }
  ]
}