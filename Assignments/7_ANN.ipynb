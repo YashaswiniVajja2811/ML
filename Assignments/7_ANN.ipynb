{
  "nbformat": 4,
  "nbformat_minor": 0,
  "metadata": {
    "colab": {
      "provenance": []
    },
    "kernelspec": {
      "name": "python3",
      "display_name": "Python 3"
    },
    "language_info": {
      "name": "python"
    }
  },
  "cells": [
    {
      "cell_type": "code",
      "execution_count": null,
      "metadata": {
        "id": "trvUR6dpdVXD"
      },
      "outputs": [],
      "source": [
        "import pandas as pd\n",
        "import numpy as np\n",
        "from sklearn.model_selection import train_test_split\n",
        "from sklearn.preprocessing import MinMaxScaler, LabelEncoder\n",
        "from sklearn.metrics import accuracy_score, confusion_matrix, mean_squared_error\n",
        "from tensorflow.keras.models import Sequential\n",
        "from tensorflow.keras.layers import Dense\n",
        "from tensorflow.keras.optimizers import Adam\n",
        "import matplotlib.pyplot as plt"
      ]
    },
    {
      "cell_type": "code",
      "source": [
        "pesticides=pd.read_csv('pesticides.csv')\n",
        "pesticides.head()"
      ],
      "metadata": {
        "id": "75TpcvY5ePwh"
      },
      "execution_count": null,
      "outputs": []
    },
    {
      "cell_type": "code",
      "source": [
        "rainfall=pd.read_csv('rainfall.csv')\n",
        "rainfall.head()"
      ],
      "metadata": {
        "id": "rRQXMjrbeWz5"
      },
      "execution_count": null,
      "outputs": []
    },
    {
      "cell_type": "code",
      "source": [
        "temperature=pd.read_csv('temperature.csv')\n",
        "temperature.head()"
      ],
      "metadata": {
        "id": "ShxxblVleZX1"
      },
      "execution_count": null,
      "outputs": []
    },
    {
      "cell_type": "code",
      "source": [
        "yield_data=pd.read_csv('yield.csv')\n",
        "yield_data.head()"
      ],
      "metadata": {
        "id": "W9GlgZ7Xeb9T"
      },
      "execution_count": null,
      "outputs": []
    },
    {
      "cell_type": "code",
      "source": [
        "data=pd.merge(yield_data,pesticides, on=['Area','Year'],suffixes=('_yield','_pesticides'))\n",
        "data.head()"
      ],
      "metadata": {
        "id": "vEzjpsN5ejRz"
      },
      "execution_count": null,
      "outputs": []
    },
    {
      "cell_type": "code",
      "source": [
        "data=None #dont use this unless you want to reset data file"
      ],
      "metadata": {
        "id": "sTzY7SmSwwhv"
      },
      "execution_count": null,
      "outputs": []
    },
    {
      "cell_type": "code",
      "source": [
        "data=pd.merge(data,rainfall, left_on=['Area','Year'],right_on=['Country','Year'])\n",
        "data.drop(columns=['Country'],inplace=True)\n",
        "data.head()"
      ],
      "metadata": {
        "id": "RlyFvQ6szBjX"
      },
      "execution_count": null,
      "outputs": []
    },
    {
      "cell_type": "code",
      "source": [
        "data=pd.merge(data,temperature, left_on=['Area','Year'],right_on=['Country','Year'])\n",
        "data.drop(columns=['Country'],inplace=True)\n",
        "data.head()"
      ],
      "metadata": {
        "id": "yjnluRLHzPGO"
      },
      "execution_count": null,
      "outputs": []
    },
    {
      "cell_type": "code",
      "source": [
        "column_names=data.columns.tolist()\n",
        "print(column_names)"
      ],
      "metadata": {
        "id": "IzoH1Lb309_y"
      },
      "execution_count": null,
      "outputs": []
    },
    {
      "cell_type": "code",
      "source": [
        "data=data.drop(columns=['Unnamed: 0_yield',\t'Domain_yield',\t'Element_yield',\t'Unit_yield',\t'Unnamed: 0_pesticides',\t'Domain_pesticides'\t,'Element_pesticides','Item_pesticides','Unit_pesticides',\t'Unnamed: 0_x',\t\t'Statistics_x'\t,'ISO3_x',\t'Unnamed: 0_y',\t'Statistics_y'\t,'ISO3_y'])"
      ],
      "metadata": {
        "id": "w5WBsimde_ON"
      },
      "execution_count": null,
      "outputs": []
    },
    {
      "cell_type": "code",
      "source": [
        "data= data.dropna()\n",
        "data.head()"
      ],
      "metadata": {
        "id": "KO5W53TAfGsl"
      },
      "execution_count": null,
      "outputs": []
    },
    {
      "cell_type": "code",
      "source": [
        "encoder=LabelEncoder()\n",
        "data['Area']=encoder.fit_transform(data['Area'])\n",
        "data['Item_yield'] = encoder.fit_transform(data['Item_yield'])"
      ],
      "metadata": {
        "id": "zIo9_L0ofLAY"
      },
      "execution_count": null,
      "outputs": []
    },
    {
      "cell_type": "code",
      "source": [
        "unique_values=data['Item_yield'].unique()\n",
        "print(unique_values)"
      ],
      "metadata": {
        "id": "WePeOAhm7YB6"
      },
      "execution_count": null,
      "outputs": []
    },
    {
      "cell_type": "code",
      "source": [
        "features=['Area','Year','Value_pesticides','Rainfall - (MM)','Temperature - (Celsius)']\n",
        "X=data[features]\n",
        "y_class=data['Item_yield']\n",
        "y_regress=data['Value_yield']\n",
        "scaler=MinMaxScaler()\n",
        "X_scaled=scaler.fit_transform(X)"
      ],
      "metadata": {
        "id": "t3Rj8QVCpchu"
      },
      "execution_count": null,
      "outputs": []
    },
    {
      "cell_type": "code",
      "source": [
        "X_train_c,X_test_c,y_train_c,y_test_c=train_test_split(X_scaled,y_class,test_size=0.2,random_state=42)\n",
        "X_train_c,X_val_c,y_train_c,y_val_c=train_test_split(X_train_c,y_train_c,test_size=0.1,random_state=42)\n",
        "X_train_r,X_test_r,y_train_r,y_test_r=train_test_split(X_scaled,y_regress,test_size=0.2,random_state=42)\n",
        "X_train_r,X_val_r,y_train_r,y_val_r=train_test_split(X_train_r,y_train_r,test_size=0.1,random_state=42)"
      ],
      "metadata": {
        "id": "gWboB9J_rmsN"
      },
      "execution_count": null,
      "outputs": []
    },
    {
      "cell_type": "code",
      "source": [
        "print(y_train_c)\n",
        "print(y_val_c)"
      ],
      "metadata": {
        "id": "maBWcYd4AVfK"
      },
      "execution_count": null,
      "outputs": []
    },
    {
      "cell_type": "code",
      "source": [
        "model_c=Sequential([\n",
        "    Dense(128,activation='relu',input_shape=(X_train_c.shape[1],)),\n",
        "    Dense(64,activation='relu'),\n",
        "    Dense(32,activation='relu'),\n",
        "    Dense(len(unique_values),activation='softmax')\n",
        "])\n",
        "opt_c=Adam(learning_rate=0.001)\n",
        "model_c.compile(optimizer=opt_c,loss='sparse_categorical_crossentropy',metrics=['accuracy'])\n",
        "history_c=model_c.fit(X_train_c,y_train_c,validation_data=(X_val_c,y_val_c),epochs=5,batch_size=32)"
      ],
      "metadata": {
        "id": "RgeX5njI4CHU"
      },
      "execution_count": null,
      "outputs": []
    },
    {
      "cell_type": "code",
      "source": [
        "plt.figure(figsize=(12,6))\n",
        "plt.plot(history_c.history['loss'],label='Training Loss')\n",
        "plt.plot(history_c.history['val_loss'],label='Validation Loss')\n",
        "plt.title('Training and Validation Loss')\n",
        "plt.xlabel('Epochs')\n",
        "plt.ylabel('Loss')\n",
        "plt.legend()\n",
        "plt.show()"
      ],
      "metadata": {
        "id": "vV2iV7-f55_q"
      },
      "execution_count": null,
      "outputs": []
    },
    {
      "cell_type": "code",
      "source": [
        "test_loss_c,test_accuracy=model_c.evaluate(X_test_c,y_test_c)\n",
        "print(f'Test Accuracy: {test_accuracy}')\n",
        "print(f'Test Loss: {test_loss_c}')"
      ],
      "metadata": {
        "id": "UgrPc2ZP6USC"
      },
      "execution_count": null,
      "outputs": []
    },
    {
      "cell_type": "code",
      "source": [
        "model_r=Sequential([\n",
        "    Dense(128,activation='relu',input_shape=(X_train_r.shape[1],)),\n",
        "    Dense(64,activation='relu'),\n",
        "    Dense(32,activation='relu'),\n",
        "    Dense(1,activation='linear')\n",
        "])\n",
        "opt_r=Adam(learning_rate=0.001)\n",
        "model_r.compile(optimizer=opt_r,loss='mean_squared_error',metrics=['mean_squared_error'])\n",
        "history_r=model_r.fit(X_train_r,y_train_r,validation_data=(X_val_r,y_val_r),epochs=5,batch_size=32)"
      ],
      "metadata": {
        "id": "7LXQOYswsJKr"
      },
      "execution_count": null,
      "outputs": []
    },
    {
      "cell_type": "code",
      "source": [
        "plt.figure(figsize=(12,6))\n",
        "plt.plot(history_r.history['loss'],label='Training Loss')\n",
        "plt.plot(history_r.history['val_loss'],label='Validation Loss')\n",
        "plt.title('Training and Validation Loss')\n",
        "plt.xlabel('Epochs')\n",
        "plt.ylabel('Loss')\n",
        "plt.legend()\n",
        "plt.show()"
      ],
      "metadata": {
        "id": "zviFu5DgtIFB"
      },
      "execution_count": null,
      "outputs": []
    },
    {
      "cell_type": "code",
      "source": [
        "test_loss_r,test_mse=model_r.evaluate(X_test_r,y_test_r)\n",
        "print(f'Test MSE: {test_mse}')"
      ],
      "metadata": {
        "id": "-oJ06IVD6isP"
      },
      "execution_count": null,
      "outputs": []
    }
  ]
}