{
  "nbformat": 4,
  "nbformat_minor": 0,
  "metadata": {
    "colab": {
      "provenance": []
    },
    "kernelspec": {
      "name": "python3",
      "display_name": "Python 3"
    },
    "language_info": {
      "name": "python"
    }
  },
  "cells": [
    {
      "cell_type": "code",
      "execution_count": null,
      "metadata": {
        "id": "4OoIQIouLiJt"
      },
      "outputs": [],
      "source": [
        "import numpy as np\n",
        "import pandas as pd\n",
        "from collections import Counter\n",
        "from sklearn.model_selection import train_test_split"
      ]
    },
    {
      "cell_type": "code",
      "source": [
        "np.random.seed(42)\n",
        "num_samples = 1000\n",
        "\n",
        "# Creating two features\n",
        "X = np.random.rand(num_samples, 2) * 10  # Random values between 0 and 10\n",
        "\n",
        "# Creating labels (0 or 1) based on a simple rule\n",
        "# Example: If sum of feature values is greater than 10, label = 1, else label = 0\n",
        "y = (X[:, 0] + X[:, 1] > 10).astype(int)"
      ],
      "metadata": {
        "id": "xtV8Mvp2N1zC"
      },
      "execution_count": null,
      "outputs": []
    },
    {
      "cell_type": "code",
      "source": [
        "# Convert to DataFrame for display\n",
        "df = pd.DataFrame(X, columns=[\"Feature1\", \"Feature2\"])\n",
        "df['Label'] = y\n",
        "\n",
        "# Show first few rows of dataset\n",
        "print(\"Dataset (first 5 rows):\")\n",
        "print(df.head())"
      ],
      "metadata": {
        "colab": {
          "base_uri": "https://localhost:8080/"
        },
        "id": "O0hQZ3Q5N-tK",
        "outputId": "2c6877a8-8489-4ea8-8a2d-8c64f6be5287"
      },
      "execution_count": null,
      "outputs": [
        {
          "output_type": "stream",
          "name": "stdout",
          "text": [
            "Dataset (first 5 rows):\n",
            "   Feature1  Feature2  Label\n",
            "0  3.745401  9.507143      1\n",
            "1  7.319939  5.986585      1\n",
            "2  1.560186  1.559945      0\n",
            "3  0.580836  8.661761      0\n",
            "4  6.011150  7.080726      1\n"
          ]
        }
      ]
    },
    {
      "cell_type": "code",
      "source": [
        "def euclidean_distance(point1, point2):\n",
        "    \"\"\"Calculate the Euclidean distance between two points.\"\"\"\n",
        "    return np.sqrt(np.sum((np.array(point1) - np.array(point2))**2))"
      ],
      "metadata": {
        "id": "EUn7yTpvOEPk"
      },
      "execution_count": null,
      "outputs": []
    },
    {
      "cell_type": "code",
      "source": [
        "def knn_predict(X_train, y_train, X_test, k=3):\n",
        "    \"\"\"k-Nearest Neighbors prediction from scratch.\"\"\"\n",
        "    predictions = []\n",
        "    for test_point in X_test:\n",
        "        distances = [euclidean_distance(test_point, train_point) for train_point in X_train]\n",
        "        k_indices = np.argsort(distances)[:k]\n",
        "        k_labels = [y_train[i] for i in k_indices]\n",
        "        most_common = Counter(k_labels).most_common(1)[0][0]\n",
        "        predictions.append(most_common)\n",
        "    return predictions"
      ],
      "metadata": {
        "id": "WFdPQKI5OGfx"
      },
      "execution_count": null,
      "outputs": []
    },
    {
      "cell_type": "code",
      "source": [
        "# Split dataset into training and testing sets\n",
        "X_train, X_test, y_train, y_test = train_test_split(X, y, test_size=0.2, random_state=42, shuffle=True)"
      ],
      "metadata": {
        "id": "Y_xQkLQ0OKd9"
      },
      "execution_count": null,
      "outputs": []
    },
    {
      "cell_type": "code",
      "source": [
        "# Predict using k-NN\n",
        "k = 3\n",
        "y_pred = knn_predict(X_train, y_train, X_test, k=k)"
      ],
      "metadata": {
        "id": "gX1-iiI0ORXB"
      },
      "execution_count": null,
      "outputs": []
    },
    {
      "cell_type": "code",
      "source": [
        "# Evaluate accuracy\n",
        "accuracy = np.sum(y_pred == y_test) / len(y_test)\n",
        "print(f\"Accuracy: {accuracy * 100:.2f}%\")"
      ],
      "metadata": {
        "colab": {
          "base_uri": "https://localhost:8080/"
        },
        "id": "YFzoqqXnOR_e",
        "outputId": "fa316223-0bac-4929-a32c-127e8b20e020"
      },
      "execution_count": null,
      "outputs": [
        {
          "output_type": "stream",
          "name": "stdout",
          "text": [
            "Accuracy: 98.00%\n"
          ]
        }
      ]
    }
  ]
}