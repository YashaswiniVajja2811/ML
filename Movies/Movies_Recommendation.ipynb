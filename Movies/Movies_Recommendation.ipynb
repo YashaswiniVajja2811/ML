{
  "nbformat": 4,
  "nbformat_minor": 0,
  "metadata": {
    "colab": {
      "provenance": []
    },
    "kernelspec": {
      "name": "python3",
      "display_name": "Python 3"
    },
    "language_info": {
      "name": "python"
    }
  },
  "cells": [
    {
      "cell_type": "code",
      "execution_count": null,
      "metadata": {
        "id": "ffEBBmTdzYkA"
      },
      "outputs": [],
      "source": [
        "!pip install pandas numpy scikit-learn surprise nltk"
      ]
    },
    {
      "cell_type": "markdown",
      "source": [
        "### User Rating Prediction Based on Custom Input\n",
        "Approach:\n",
        "\n",
        "Finds similar movies based on genre, keywords, and actors<br>\n",
        "Uses collaborative filtering (SVD) to predict user ratings"
      ],
      "metadata": {
        "id": "wRZNJkqjW_9w"
      }
    },
    {
      "cell_type": "code",
      "source": [
        "import pandas as pd\n",
        "import numpy as np\n",
        "import ast\n",
        "from surprise import SVD, Dataset, Reader\n",
        "\n",
        "# Read credits.csv while handling errors\n",
        "try:\n",
        "    credits = pd.read_csv(\"credits.csv\", low_memory=False, encoding=\"utf-8\", on_bad_lines=\"skip\")\n",
        "except pd.errors.ParserError:\n",
        "    print(\"Error reading credits.csv. Trying alternative parsing...\")\n",
        "\n",
        "    with open(\"credits.csv\", \"r\", encoding=\"utf-8\") as file:\n",
        "        lines = file.readlines()\n",
        "\n",
        "    with open(\"credits_fixed.csv\", \"w\", encoding=\"utf-8\") as file:\n",
        "        for line in lines:\n",
        "            if line.count('\"') % 2 == 0:  # Ensures quotes are balanced\n",
        "                file.write(line)\n",
        "\n",
        "    credits = pd.read_csv(\"credits_fixed.csv\", low_memory=False, encoding=\"utf-8\")\n",
        "\n",
        "# Load datasets\n",
        "movies = pd.read_csv(\"movies_metadata.csv\", low_memory=False, on_bad_lines=\"skip\")\n",
        "ratings = pd.read_csv(\"ratings.csv\", low_memory=False, on_bad_lines=\"skip\")\n",
        "keywords = pd.read_csv(\"keywords.csv\", low_memory=False, on_bad_lines=\"skip\")\n",
        "\n",
        "# Convert 'id' columns to a consistent type before merging\n",
        "movies['id'] = pd.to_numeric(movies['id'], errors='coerce')\n",
        "keywords['id'] = pd.to_numeric(keywords['id'], errors='coerce')\n",
        "credits['id'] = pd.to_numeric(credits['id'], errors='coerce')\n",
        "\n",
        "# Now perform the merge\n",
        "movies = movies.merge(keywords, on=\"id\", how=\"left\").merge(credits, on=\"id\", how=\"left\")\n",
        "# Convert genre and keywords to readable format\n",
        "def parse_column(text):\n",
        "    try:\n",
        "        return \" \".join([item[\"name\"] for item in ast.literal_eval(text)])\n",
        "    except:\n",
        "        return \"\"\n",
        "\n",
        "movies[\"genres\"] = movies[\"genres\"].apply(parse_column)\n",
        "movies[\"keywords\"] = movies[\"keywords\"].apply(parse_column)\n",
        "\n",
        "# Train collaborative filtering model\n",
        "reader = Reader(rating_scale=(ratings[\"rating\"].min(), ratings[\"rating\"].max()))\n",
        "data = Dataset.load_from_df(ratings[[\"userId\", \"movieId\", \"rating\"]], reader)\n",
        "trainset = data.build_full_trainset()\n",
        "svd = SVD()\n",
        "svd.fit(trainset)\n",
        "\n",
        "# Function to predict user rating based on input\n",
        "def predict_user_rating(user_id, genre, keyword, actor):\n",
        "    # Filter movies based on user input\n",
        "    filtered_movies = movies[\n",
        "        (movies[\"genres\"].str.contains(genre, case=False, na=False)) &\n",
        "        (movies[\"keywords\"].str.contains(keyword, case=False, na=False)) &\n",
        "        (movies[\"cast\"].str.contains(actor, case=False, na=False))\n",
        "    ]\n",
        "\n",
        "    if filtered_movies.empty:\n",
        "        return \"No matching movies found.\"\n",
        "\n",
        "    # Predict ratings for filtered movies\n",
        "    filtered_movies[\"predicted_rating\"] = filtered_movies[\"id\"].apply(\n",
        "        lambda x: svd.predict(user_id, x).est if str(x).isdigit() else 0\n",
        "    )\n",
        "\n",
        "    # Return top-rated prediction\n",
        "    return filtered_movies[[\"title\", \"predicted_rating\"]].sort_values(\n",
        "        by=\"predicted_rating\", ascending=False\n",
        "    ).head(5)\n",
        "\n",
        "# Example Usage\n",
        "print(predict_user_rating(1, \"Action\", \"hero\", \"Tom Cruise\"))\n"
      ],
      "metadata": {
        "colab": {
          "base_uri": "https://localhost:8080/"
        },
        "id": "c0-B_WJCzbbU",
        "outputId": "7098ab91-8286-4320-f5b1-032846ea04cd"
      },
      "execution_count": null,
      "outputs": [
        {
          "output_type": "stream",
          "name": "stdout",
          "text": [
            "No matching movies found.\n"
          ]
        }
      ]
    },
    {
      "cell_type": "markdown",
      "source": [
        "### Recommend Movies User Will Like (Top 10 Rated by User)\n",
        "Approach:<br>\n",
        "This function finds the top 10 movies rated by a specific user and recommends similar movies."
      ],
      "metadata": {
        "id": "2_W1qv_SXbc8"
      }
    },
    {
      "source": [
        "from sklearn.feature_extraction.text import TfidfVectorizer\n",
        "from sklearn.metrics.pairwise import cosine_similarity\n",
        "\n",
        "# Combine genres, keywords, and overview for content-based filtering\n",
        "movies[\"combined_features\"] = (\n",
        "    movies[\"genres\"] + \" \" + movies[\"keywords\"] + \" \" + movies[\"overview\"].fillna(\"\")\n",
        ")\n",
        "\n",
        "# TF-IDF Vectorization\n",
        "tfidf = TfidfVectorizer(stop_words=\"english\")\n",
        "tfidf_matrix = tfidf.fit_transform(movies[\"combined_features\"])\n",
        "cosine_sim = cosine_similarity(tfidf_matrix, tfidf_matrix)\n",
        "\n",
        "# Function to recommend movies based on top-rated movies by a user\n",
        "def recommend_movies_from_user_ratings(user_id):\n",
        "    # Get top 10 highest-rated movies by user\n",
        "    user_ratings = ratings[ratings[\"userId\"] == user_id].sort_values(\n",
        "        by=\"rating\", ascending=False\n",
        "    ).head(10)\n",
        "\n",
        "    # Get recommended movies based on similarity\n",
        "    recommended_movies = []\n",
        "    for movie_id in user_ratings[\"movieId\"]:\n",
        "        idx = movies[movies[\"id\"] == str(movie_id)].index\n",
        "        if len(idx) == 0:\n",
        "            continue\n",
        "        idx = idx[0]\n",
        "        similarity_scores = list(enumerate(cosine_sim[idx]))\n",
        "        similarity_scores = sorted(similarity_scores, key=lambda x: x[1], reverse=True)[1:3]\n",
        "\n",
        "        recommended_movies.extend([movies.iloc[i[0]][\"title\"] for i in similarity_scores])\n",
        "\n",
        "    return list(set(recommended_movies))[:10]\n",
        "\n",
        "# Example Usage\n",
        "print(recommend_movies_from_user_ratings(1))\n"
      ],
      "cell_type": "code",
      "metadata": {
        "id": "R8zuR_cmIkjb"
      },
      "execution_count": null,
      "outputs": []
    },
    {
      "cell_type": "markdown",
      "source": [
        "### Hybrid Recommendation (Users Like You Have Also Liked)\n",
        "Approach:<br>\n",
        "This function finds users with similar rating patterns and recommends movies they liked."
      ],
      "metadata": {
        "id": "CuqN5C73XnpX"
      }
    },
    {
      "cell_type": "code",
      "source": [
        "from sklearn.metrics.pairwise import cosine_similarity\n",
        "\n",
        "# Create a user-item matrix\n",
        "user_movie_ratings = ratings.pivot(index=\"userId\", columns=\"movieId\", values=\"rating\").fillna(0)\n",
        "\n",
        "# Compute user similarity matrix\n",
        "user_similarity = cosine_similarity(user_movie_ratings)\n",
        "\n",
        "# Function to get recommendations based on similar users\n",
        "def users_like_you_recommendations(user_id):\n",
        "    if user_id not in user_movie_ratings.index:\n",
        "        return \"User not found\"\n",
        "\n",
        "    # Get similar users\n",
        "    user_idx = user_movie_ratings.index.get_loc(user_id)\n",
        "    similar_users = list(enumerate(user_similarity[user_idx]))\n",
        "    similar_users = sorted(similar_users, key=lambda x: x[1], reverse=True)[1:6]  # Top 5 similar users\n",
        "\n",
        "    # Get movies liked by similar users\n",
        "    similar_user_ids = [user_movie_ratings.index[i[0]] for i in similar_users]\n",
        "    similar_users_ratings = ratings[ratings[\"userId\"].isin(similar_user_ids)]\n",
        "\n",
        "    # Recommend movies that similar users have rated highly\n",
        "    recommended_movies = similar_users_ratings.groupby(\"movieId\")[\"rating\"].mean().sort_values(ascending=False).head(10)\n",
        "\n",
        "    return movies[movies[\"id\"].isin(recommended_movies.index)][\"title\"].tolist()\n",
        "\n",
        "# Example Usage\n",
        "print(users_like_you_recommendations(1))\n"
      ],
      "metadata": {
        "id": "AWtCJ2mhW7lY"
      },
      "execution_count": null,
      "outputs": []
    }
  ]
}